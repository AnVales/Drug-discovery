{
  "nbformat": 4,
  "nbformat_minor": 0,
  "metadata": {
    "colab": {
      "name": "drug_discovery_2.ipynb",
      "provenance": [],
      "collapsed_sections": [],
      "authorship_tag": "ABX9TyPyGq8QN5OucngrCz1dhxgI"
    },
    "kernelspec": {
      "name": "python3",
      "display_name": "Python 3"
    },
    "language_info": {
      "name": "python"
    }
  },
  "cells": [
    {
      "cell_type": "markdown",
      "metadata": {
        "id": "7vA7RpFYIMgf"
      },
      "source": [
        "#Computational drug discovery: part 2\n",
        "\n",
        "##Exploratory Data Analysis"
      ]
    },
    {
      "cell_type": "code",
      "metadata": {
        "id": "WXd14W35JAg9"
      },
      "source": [
        "# Install conda and rdkit\n",
        "! wget https://repo.anaconda.com/miniconda/Miniconda3-py37_4.8.2-Linux-x86_64.sh\n",
        "! chmod +x Miniconda3-py37_4.8.2-Linux-x86_64.sh\n",
        "! bash ./Miniconda3-py37_4.8.2-Linux-x86_64.sh -b -f -p /usr/local\n",
        "! conda install -c rdkit rdkit -y\n",
        "import sys\n",
        "sys.path.append('/usr/local/lib/python3.7/site-packages/')"
      ],
      "execution_count": null,
      "outputs": []
    },
    {
      "cell_type": "code",
      "metadata": {
        "id": "dp0019NQMMIa"
      },
      "source": [
        "# Import libraries\n",
        "import pandas as pd"
      ],
      "execution_count": null,
      "outputs": []
    },
    {
      "cell_type": "code",
      "metadata": {
        "colab": {
          "base_uri": "https://localhost:8080/"
        },
        "id": "8TBWVfHHMQdA",
        "outputId": "2bf4aa4b-0f9a-489c-a667-2c8a7b40119d"
      },
      "source": [
        "! wget -O genital_herpes_03_bioactivity_data_curated.csv https://raw.githubusercontent.com/AnVales/Drug-discovery/main/genital_herpes_03_bioactivity_data_curated.csv"
      ],
      "execution_count": null,
      "outputs": [
        {
          "output_type": "stream",
          "name": "stdout",
          "text": [
            "--2021-09-02 20:54:45--  https://raw.githubusercontent.com/AnVales/Drug-discovery/main/genital_herpes_03_bioactivity_data_curated.csv\n",
            "Resolving raw.githubusercontent.com (raw.githubusercontent.com)... 185.199.108.133, 185.199.109.133, 185.199.110.133, ...\n",
            "Connecting to raw.githubusercontent.com (raw.githubusercontent.com)|185.199.108.133|:443... connected.\n",
            "HTTP request sent, awaiting response... 200 OK\n",
            "Length: 21393 (21K) [text/plain]\n",
            "Saving to: ‘genital_herpes_03_bioactivity_data_curated.csv’\n",
            "\n",
            "\r          genital_h   0%[                    ]       0  --.-KB/s               \rgenital_herpes_03_b 100%[===================>]  20.89K  --.-KB/s    in 0s      \n",
            "\n",
            "2021-09-02 20:54:45 (60.6 MB/s) - ‘genital_herpes_03_bioactivity_data_curated.csv’ saved [21393/21393]\n",
            "\n"
          ]
        }
      ]
    },
    {
      "cell_type": "code",
      "metadata": {
        "colab": {
          "base_uri": "https://localhost:8080/",
          "height": 418
        },
        "id": "1yosf43uPkAq",
        "outputId": "4cf8f4c4-86dc-488a-c367-e514fa2d7f63"
      },
      "source": [
        "bioactivity_data = pd.read_csv('genital_herpes_03_bioactivity_data_curated.csv')\n",
        "bioactivity_data"
      ],
      "execution_count": null,
      "outputs": [
        {
          "output_type": "execute_result",
          "data": {
            "text/html": [
              "<div>\n",
              "<style scoped>\n",
              "    .dataframe tbody tr th:only-of-type {\n",
              "        vertical-align: middle;\n",
              "    }\n",
              "\n",
              "    .dataframe tbody tr th {\n",
              "        vertical-align: top;\n",
              "    }\n",
              "\n",
              "    .dataframe thead th {\n",
              "        text-align: right;\n",
              "    }\n",
              "</style>\n",
              "<table border=\"1\" class=\"dataframe\">\n",
              "  <thead>\n",
              "    <tr style=\"text-align: right;\">\n",
              "      <th></th>\n",
              "      <th>molecule_chembl_id</th>\n",
              "      <th>canonical_smiles</th>\n",
              "      <th>standard_value</th>\n",
              "      <th>bioactivity</th>\n",
              "    </tr>\n",
              "  </thead>\n",
              "  <tbody>\n",
              "    <tr>\n",
              "      <th>0</th>\n",
              "      <td>CHEMBL122071</td>\n",
              "      <td>CC(=O)O[C@@H]1CC(=O)N1C(=O)NC(C)C</td>\n",
              "      <td>100000.0</td>\n",
              "      <td>inactive</td>\n",
              "    </tr>\n",
              "    <tr>\n",
              "      <th>1</th>\n",
              "      <td>CHEMBL124107</td>\n",
              "      <td>CCCCNC(=O)N1C(=O)C[C@H]1OC(C)=O</td>\n",
              "      <td>68000.0</td>\n",
              "      <td>inactive</td>\n",
              "    </tr>\n",
              "    <tr>\n",
              "      <th>2</th>\n",
              "      <td>CHEMBL120853</td>\n",
              "      <td>C[C@@H]1C(=O)N(C(=O)NCc2ccccc2)[C@@H]1Oc1ccc(C...</td>\n",
              "      <td>100000.0</td>\n",
              "      <td>inactive</td>\n",
              "    </tr>\n",
              "    <tr>\n",
              "      <th>3</th>\n",
              "      <td>CHEMBL122296</td>\n",
              "      <td>CC(=O)O[C@@H]1[C@@H](C)C(=O)N1C(=O)NCc1ccccc1</td>\n",
              "      <td>6500.0</td>\n",
              "      <td>intermediate</td>\n",
              "    </tr>\n",
              "    <tr>\n",
              "      <th>4</th>\n",
              "      <td>CHEMBL333734</td>\n",
              "      <td>CC(=O)O[C@@H]1[C@H](C)C(=O)N1C(=O)NCc1ccccc1</td>\n",
              "      <td>27000.0</td>\n",
              "      <td>inactive</td>\n",
              "    </tr>\n",
              "    <tr>\n",
              "      <th>...</th>\n",
              "      <td>...</td>\n",
              "      <td>...</td>\n",
              "      <td>...</td>\n",
              "      <td>...</td>\n",
              "    </tr>\n",
              "    <tr>\n",
              "      <th>230</th>\n",
              "      <td>CHEMBL106921</td>\n",
              "      <td>Cc1csc2nc(Cc3cccc(NC(=O)c4ccccc4)c3)oc(=O)c12</td>\n",
              "      <td>1500.0</td>\n",
              "      <td>intermediate</td>\n",
              "    </tr>\n",
              "    <tr>\n",
              "      <th>231</th>\n",
              "      <td>CHEMBL107963</td>\n",
              "      <td>Cc1csc2nc(Cc3cccc(NC(=O)c4ccc(NN)cc4)c3)oc(=O)c12</td>\n",
              "      <td>2400.0</td>\n",
              "      <td>intermediate</td>\n",
              "    </tr>\n",
              "    <tr>\n",
              "      <th>232</th>\n",
              "      <td>CHEMBL106641</td>\n",
              "      <td>CC(=O)c1cccc(NO)c1</td>\n",
              "      <td>11000.0</td>\n",
              "      <td>inactive</td>\n",
              "    </tr>\n",
              "    <tr>\n",
              "      <th>233</th>\n",
              "      <td>CHEMBL108677</td>\n",
              "      <td>Cc1csc2nc(Cc3cccc(NC(=O)c4ccc(NO)cc4)c3)oc(=O)c12</td>\n",
              "      <td>61.0</td>\n",
              "      <td>active</td>\n",
              "    </tr>\n",
              "    <tr>\n",
              "      <th>234</th>\n",
              "      <td>CHEMBL542448</td>\n",
              "      <td>Cl.NO</td>\n",
              "      <td>33000.0</td>\n",
              "      <td>inactive</td>\n",
              "    </tr>\n",
              "  </tbody>\n",
              "</table>\n",
              "<p>235 rows × 4 columns</p>\n",
              "</div>"
            ],
            "text/plain": [
              "    molecule_chembl_id  ...   bioactivity\n",
              "0         CHEMBL122071  ...      inactive\n",
              "1         CHEMBL124107  ...      inactive\n",
              "2         CHEMBL120853  ...      inactive\n",
              "3         CHEMBL122296  ...  intermediate\n",
              "4         CHEMBL333734  ...      inactive\n",
              "..                 ...  ...           ...\n",
              "230       CHEMBL106921  ...  intermediate\n",
              "231       CHEMBL107963  ...  intermediate\n",
              "232       CHEMBL106641  ...      inactive\n",
              "233       CHEMBL108677  ...        active\n",
              "234       CHEMBL542448  ...      inactive\n",
              "\n",
              "[235 rows x 4 columns]"
            ]
          },
          "metadata": {},
          "execution_count": 35
        }
      ]
    },
    {
      "cell_type": "code",
      "metadata": {
        "colab": {
          "base_uri": "https://localhost:8080/"
        },
        "id": "Siy5nRZXll0W",
        "outputId": "528f4cfd-ab7e-4b57-ea78-3467041f2bc8"
      },
      "source": [
        "bioactivity_data.shape"
      ],
      "execution_count": null,
      "outputs": [
        {
          "output_type": "execute_result",
          "data": {
            "text/plain": [
              "(235, 4)"
            ]
          },
          "metadata": {},
          "execution_count": 36
        }
      ]
    },
    {
      "cell_type": "code",
      "metadata": {
        "colab": {
          "base_uri": "https://localhost:8080/",
          "height": 418
        },
        "id": "K0eDt68xdEK1",
        "outputId": "a1dc0bc8-6910-43ff-9320-f93183750fcf"
      },
      "source": [
        "# Delete rows with missing data\n",
        "bioactivity_data_clean = bioactivity_data.dropna(how='any')\n",
        "bioactivity_data_clean"
      ],
      "execution_count": null,
      "outputs": [
        {
          "output_type": "execute_result",
          "data": {
            "text/html": [
              "<div>\n",
              "<style scoped>\n",
              "    .dataframe tbody tr th:only-of-type {\n",
              "        vertical-align: middle;\n",
              "    }\n",
              "\n",
              "    .dataframe tbody tr th {\n",
              "        vertical-align: top;\n",
              "    }\n",
              "\n",
              "    .dataframe thead th {\n",
              "        text-align: right;\n",
              "    }\n",
              "</style>\n",
              "<table border=\"1\" class=\"dataframe\">\n",
              "  <thead>\n",
              "    <tr style=\"text-align: right;\">\n",
              "      <th></th>\n",
              "      <th>molecule_chembl_id</th>\n",
              "      <th>canonical_smiles</th>\n",
              "      <th>standard_value</th>\n",
              "      <th>bioactivity</th>\n",
              "    </tr>\n",
              "  </thead>\n",
              "  <tbody>\n",
              "    <tr>\n",
              "      <th>0</th>\n",
              "      <td>CHEMBL122071</td>\n",
              "      <td>CC(=O)O[C@@H]1CC(=O)N1C(=O)NC(C)C</td>\n",
              "      <td>100000.0</td>\n",
              "      <td>inactive</td>\n",
              "    </tr>\n",
              "    <tr>\n",
              "      <th>1</th>\n",
              "      <td>CHEMBL124107</td>\n",
              "      <td>CCCCNC(=O)N1C(=O)C[C@H]1OC(C)=O</td>\n",
              "      <td>68000.0</td>\n",
              "      <td>inactive</td>\n",
              "    </tr>\n",
              "    <tr>\n",
              "      <th>2</th>\n",
              "      <td>CHEMBL120853</td>\n",
              "      <td>C[C@@H]1C(=O)N(C(=O)NCc2ccccc2)[C@@H]1Oc1ccc(C...</td>\n",
              "      <td>100000.0</td>\n",
              "      <td>inactive</td>\n",
              "    </tr>\n",
              "    <tr>\n",
              "      <th>3</th>\n",
              "      <td>CHEMBL122296</td>\n",
              "      <td>CC(=O)O[C@@H]1[C@@H](C)C(=O)N1C(=O)NCc1ccccc1</td>\n",
              "      <td>6500.0</td>\n",
              "      <td>intermediate</td>\n",
              "    </tr>\n",
              "    <tr>\n",
              "      <th>4</th>\n",
              "      <td>CHEMBL333734</td>\n",
              "      <td>CC(=O)O[C@@H]1[C@H](C)C(=O)N1C(=O)NCc1ccccc1</td>\n",
              "      <td>27000.0</td>\n",
              "      <td>inactive</td>\n",
              "    </tr>\n",
              "    <tr>\n",
              "      <th>...</th>\n",
              "      <td>...</td>\n",
              "      <td>...</td>\n",
              "      <td>...</td>\n",
              "      <td>...</td>\n",
              "    </tr>\n",
              "    <tr>\n",
              "      <th>230</th>\n",
              "      <td>CHEMBL106921</td>\n",
              "      <td>Cc1csc2nc(Cc3cccc(NC(=O)c4ccccc4)c3)oc(=O)c12</td>\n",
              "      <td>1500.0</td>\n",
              "      <td>intermediate</td>\n",
              "    </tr>\n",
              "    <tr>\n",
              "      <th>231</th>\n",
              "      <td>CHEMBL107963</td>\n",
              "      <td>Cc1csc2nc(Cc3cccc(NC(=O)c4ccc(NN)cc4)c3)oc(=O)c12</td>\n",
              "      <td>2400.0</td>\n",
              "      <td>intermediate</td>\n",
              "    </tr>\n",
              "    <tr>\n",
              "      <th>232</th>\n",
              "      <td>CHEMBL106641</td>\n",
              "      <td>CC(=O)c1cccc(NO)c1</td>\n",
              "      <td>11000.0</td>\n",
              "      <td>inactive</td>\n",
              "    </tr>\n",
              "    <tr>\n",
              "      <th>233</th>\n",
              "      <td>CHEMBL108677</td>\n",
              "      <td>Cc1csc2nc(Cc3cccc(NC(=O)c4ccc(NO)cc4)c3)oc(=O)c12</td>\n",
              "      <td>61.0</td>\n",
              "      <td>active</td>\n",
              "    </tr>\n",
              "    <tr>\n",
              "      <th>234</th>\n",
              "      <td>CHEMBL542448</td>\n",
              "      <td>Cl.NO</td>\n",
              "      <td>33000.0</td>\n",
              "      <td>inactive</td>\n",
              "    </tr>\n",
              "  </tbody>\n",
              "</table>\n",
              "<p>235 rows × 4 columns</p>\n",
              "</div>"
            ],
            "text/plain": [
              "    molecule_chembl_id  ...   bioactivity\n",
              "0         CHEMBL122071  ...      inactive\n",
              "1         CHEMBL124107  ...      inactive\n",
              "2         CHEMBL120853  ...      inactive\n",
              "3         CHEMBL122296  ...  intermediate\n",
              "4         CHEMBL333734  ...      inactive\n",
              "..                 ...  ...           ...\n",
              "230       CHEMBL106921  ...  intermediate\n",
              "231       CHEMBL107963  ...  intermediate\n",
              "232       CHEMBL106641  ...      inactive\n",
              "233       CHEMBL108677  ...        active\n",
              "234       CHEMBL542448  ...      inactive\n",
              "\n",
              "[235 rows x 4 columns]"
            ]
          },
          "metadata": {},
          "execution_count": 37
        }
      ]
    },
    {
      "cell_type": "code",
      "metadata": {
        "colab": {
          "base_uri": "https://localhost:8080/",
          "height": 418
        },
        "id": "vd33LgFLrEXv",
        "outputId": "a0455db3-18c3-40d4-b1e9-f0bb71178a40"
      },
      "source": [
        "# As we have deleted rows we have to fix the index.\n",
        "bioactivity_data_clean_index = bioactivity_data_clean.reset_index(drop=True)\n",
        "bioactivity_data_clean_index"
      ],
      "execution_count": null,
      "outputs": [
        {
          "output_type": "execute_result",
          "data": {
            "text/html": [
              "<div>\n",
              "<style scoped>\n",
              "    .dataframe tbody tr th:only-of-type {\n",
              "        vertical-align: middle;\n",
              "    }\n",
              "\n",
              "    .dataframe tbody tr th {\n",
              "        vertical-align: top;\n",
              "    }\n",
              "\n",
              "    .dataframe thead th {\n",
              "        text-align: right;\n",
              "    }\n",
              "</style>\n",
              "<table border=\"1\" class=\"dataframe\">\n",
              "  <thead>\n",
              "    <tr style=\"text-align: right;\">\n",
              "      <th></th>\n",
              "      <th>molecule_chembl_id</th>\n",
              "      <th>canonical_smiles</th>\n",
              "      <th>standard_value</th>\n",
              "      <th>bioactivity</th>\n",
              "    </tr>\n",
              "  </thead>\n",
              "  <tbody>\n",
              "    <tr>\n",
              "      <th>0</th>\n",
              "      <td>CHEMBL122071</td>\n",
              "      <td>CC(=O)O[C@@H]1CC(=O)N1C(=O)NC(C)C</td>\n",
              "      <td>100000.0</td>\n",
              "      <td>inactive</td>\n",
              "    </tr>\n",
              "    <tr>\n",
              "      <th>1</th>\n",
              "      <td>CHEMBL124107</td>\n",
              "      <td>CCCCNC(=O)N1C(=O)C[C@H]1OC(C)=O</td>\n",
              "      <td>68000.0</td>\n",
              "      <td>inactive</td>\n",
              "    </tr>\n",
              "    <tr>\n",
              "      <th>2</th>\n",
              "      <td>CHEMBL120853</td>\n",
              "      <td>C[C@@H]1C(=O)N(C(=O)NCc2ccccc2)[C@@H]1Oc1ccc(C...</td>\n",
              "      <td>100000.0</td>\n",
              "      <td>inactive</td>\n",
              "    </tr>\n",
              "    <tr>\n",
              "      <th>3</th>\n",
              "      <td>CHEMBL122296</td>\n",
              "      <td>CC(=O)O[C@@H]1[C@@H](C)C(=O)N1C(=O)NCc1ccccc1</td>\n",
              "      <td>6500.0</td>\n",
              "      <td>intermediate</td>\n",
              "    </tr>\n",
              "    <tr>\n",
              "      <th>4</th>\n",
              "      <td>CHEMBL333734</td>\n",
              "      <td>CC(=O)O[C@@H]1[C@H](C)C(=O)N1C(=O)NCc1ccccc1</td>\n",
              "      <td>27000.0</td>\n",
              "      <td>inactive</td>\n",
              "    </tr>\n",
              "    <tr>\n",
              "      <th>...</th>\n",
              "      <td>...</td>\n",
              "      <td>...</td>\n",
              "      <td>...</td>\n",
              "      <td>...</td>\n",
              "    </tr>\n",
              "    <tr>\n",
              "      <th>230</th>\n",
              "      <td>CHEMBL106921</td>\n",
              "      <td>Cc1csc2nc(Cc3cccc(NC(=O)c4ccccc4)c3)oc(=O)c12</td>\n",
              "      <td>1500.0</td>\n",
              "      <td>intermediate</td>\n",
              "    </tr>\n",
              "    <tr>\n",
              "      <th>231</th>\n",
              "      <td>CHEMBL107963</td>\n",
              "      <td>Cc1csc2nc(Cc3cccc(NC(=O)c4ccc(NN)cc4)c3)oc(=O)c12</td>\n",
              "      <td>2400.0</td>\n",
              "      <td>intermediate</td>\n",
              "    </tr>\n",
              "    <tr>\n",
              "      <th>232</th>\n",
              "      <td>CHEMBL106641</td>\n",
              "      <td>CC(=O)c1cccc(NO)c1</td>\n",
              "      <td>11000.0</td>\n",
              "      <td>inactive</td>\n",
              "    </tr>\n",
              "    <tr>\n",
              "      <th>233</th>\n",
              "      <td>CHEMBL108677</td>\n",
              "      <td>Cc1csc2nc(Cc3cccc(NC(=O)c4ccc(NO)cc4)c3)oc(=O)c12</td>\n",
              "      <td>61.0</td>\n",
              "      <td>active</td>\n",
              "    </tr>\n",
              "    <tr>\n",
              "      <th>234</th>\n",
              "      <td>CHEMBL542448</td>\n",
              "      <td>Cl.NO</td>\n",
              "      <td>33000.0</td>\n",
              "      <td>inactive</td>\n",
              "    </tr>\n",
              "  </tbody>\n",
              "</table>\n",
              "<p>235 rows × 4 columns</p>\n",
              "</div>"
            ],
            "text/plain": [
              "    molecule_chembl_id  ...   bioactivity\n",
              "0         CHEMBL122071  ...      inactive\n",
              "1         CHEMBL124107  ...      inactive\n",
              "2         CHEMBL120853  ...      inactive\n",
              "3         CHEMBL122296  ...  intermediate\n",
              "4         CHEMBL333734  ...      inactive\n",
              "..                 ...  ...           ...\n",
              "230       CHEMBL106921  ...  intermediate\n",
              "231       CHEMBL107963  ...  intermediate\n",
              "232       CHEMBL106641  ...      inactive\n",
              "233       CHEMBL108677  ...        active\n",
              "234       CHEMBL542448  ...      inactive\n",
              "\n",
              "[235 rows x 4 columns]"
            ]
          },
          "metadata": {},
          "execution_count": 38
        }
      ]
    },
    {
      "cell_type": "code",
      "metadata": {
        "colab": {
          "base_uri": "https://localhost:8080/",
          "height": 49
        },
        "id": "dXAg5K4wyt2-",
        "outputId": "865eb84e-3fe4-484d-fbce-68ae5b9fe3f4"
      },
      "source": [
        "# Check\n",
        "bioactivity_data_clean_index[bioactivity_data_clean_index.isnull().any(1)]"
      ],
      "execution_count": null,
      "outputs": [
        {
          "output_type": "execute_result",
          "data": {
            "text/html": [
              "<div>\n",
              "<style scoped>\n",
              "    .dataframe tbody tr th:only-of-type {\n",
              "        vertical-align: middle;\n",
              "    }\n",
              "\n",
              "    .dataframe tbody tr th {\n",
              "        vertical-align: top;\n",
              "    }\n",
              "\n",
              "    .dataframe thead th {\n",
              "        text-align: right;\n",
              "    }\n",
              "</style>\n",
              "<table border=\"1\" class=\"dataframe\">\n",
              "  <thead>\n",
              "    <tr style=\"text-align: right;\">\n",
              "      <th></th>\n",
              "      <th>molecule_chembl_id</th>\n",
              "      <th>canonical_smiles</th>\n",
              "      <th>standard_value</th>\n",
              "      <th>bioactivity</th>\n",
              "    </tr>\n",
              "  </thead>\n",
              "  <tbody>\n",
              "  </tbody>\n",
              "</table>\n",
              "</div>"
            ],
            "text/plain": [
              "Empty DataFrame\n",
              "Columns: [molecule_chembl_id, canonical_smiles, standard_value, bioactivity]\n",
              "Index: []"
            ]
          },
          "metadata": {},
          "execution_count": 39
        }
      ]
    },
    {
      "cell_type": "code",
      "metadata": {
        "id": "pk2DkUDlbTwN"
      },
      "source": [
        "# Rule-of-Five or Lipinski's Rule.\n",
        "# Evaluation of the druglikeness of compounds.\n",
        "# pharmacokinetic profile: Absorption, Distribution, Metabolism and Excretion (ADME)\n",
        "\n",
        "# Molecular weight < 500 Dalton\n",
        "# Octanol-water partition coefficient (LogP) < 5\n",
        "# Hydrogen bond donors < 5\n",
        "# Hydrogen bond acceptors < 10"
      ],
      "execution_count": null,
      "outputs": []
    },
    {
      "cell_type": "code",
      "metadata": {
        "id": "GuU0UHP0cUAL"
      },
      "source": [
        "# Import libraries\n",
        "import numpy as np\n",
        "from rdkit import Chem\n",
        "from rdkit.Chem import Descriptors, Lipinski"
      ],
      "execution_count": null,
      "outputs": []
    },
    {
      "cell_type": "code",
      "metadata": {
        "id": "yoQk-e7Rcy8V"
      },
      "source": [
        "# Calculate descriptors\n",
        "# Inspired by: https://codeocean.com/explore/capsules?query=tag:data-curation\n",
        "\n",
        "def lipinski(smiles, verbose=False):\n",
        "\n",
        "    moldata= []\n",
        "    for elem in smiles:\n",
        "        mol=Chem.MolFromSmiles(elem) \n",
        "        moldata.append(mol)\n",
        "       \n",
        "    baseData= np.arange(1,1)\n",
        "    i=0  \n",
        "    for mol in moldata:        \n",
        "       \n",
        "        desc_MolWt = Descriptors.MolWt(mol)\n",
        "        desc_MolLogP = Descriptors.MolLogP(mol)\n",
        "        desc_NumHDonors = Lipinski.NumHDonors(mol)\n",
        "        desc_NumHAcceptors = Lipinski.NumHAcceptors(mol)\n",
        "           \n",
        "        row = np.array([desc_MolWt,\n",
        "                        desc_MolLogP,\n",
        "                        desc_NumHDonors,\n",
        "                        desc_NumHAcceptors])   \n",
        "    \n",
        "        if(i==0):\n",
        "            baseData=row\n",
        "        else:\n",
        "            baseData=np.vstack([baseData, row])\n",
        "        i=i+1      \n",
        "    \n",
        "    columnNames=[\"MW\",\"LogP\",\"NumHDonors\",\"NumHAcceptors\"]   \n",
        "    descriptors = pd.DataFrame(data=baseData,columns=columnNames)\n",
        "    \n",
        "    return descriptors"
      ],
      "execution_count": null,
      "outputs": []
    },
    {
      "cell_type": "code",
      "metadata": {
        "colab": {
          "base_uri": "https://localhost:8080/",
          "height": 418
        },
        "id": "OCtzi4cic9dg",
        "outputId": "00430691-9c4f-4ee6-960c-43ba8d768ee5"
      },
      "source": [
        "bioactivity_data_smiles_lipinski = lipinski(bioactivity_data_clean_index.canonical_smiles)\n",
        "bioactivity_data_smiles_lipinski"
      ],
      "execution_count": null,
      "outputs": [
        {
          "output_type": "execute_result",
          "data": {
            "text/html": [
              "<div>\n",
              "<style scoped>\n",
              "    .dataframe tbody tr th:only-of-type {\n",
              "        vertical-align: middle;\n",
              "    }\n",
              "\n",
              "    .dataframe tbody tr th {\n",
              "        vertical-align: top;\n",
              "    }\n",
              "\n",
              "    .dataframe thead th {\n",
              "        text-align: right;\n",
              "    }\n",
              "</style>\n",
              "<table border=\"1\" class=\"dataframe\">\n",
              "  <thead>\n",
              "    <tr style=\"text-align: right;\">\n",
              "      <th></th>\n",
              "      <th>MW</th>\n",
              "      <th>LogP</th>\n",
              "      <th>NumHDonors</th>\n",
              "      <th>NumHAcceptors</th>\n",
              "    </tr>\n",
              "  </thead>\n",
              "  <tbody>\n",
              "    <tr>\n",
              "      <th>0</th>\n",
              "      <td>214.221</td>\n",
              "      <td>0.22590</td>\n",
              "      <td>1.0</td>\n",
              "      <td>4.0</td>\n",
              "    </tr>\n",
              "    <tr>\n",
              "      <th>1</th>\n",
              "      <td>228.248</td>\n",
              "      <td>0.61760</td>\n",
              "      <td>1.0</td>\n",
              "      <td>4.0</td>\n",
              "    </tr>\n",
              "    <tr>\n",
              "      <th>2</th>\n",
              "      <td>354.362</td>\n",
              "      <td>2.47780</td>\n",
              "      <td>2.0</td>\n",
              "      <td>4.0</td>\n",
              "    </tr>\n",
              "    <tr>\n",
              "      <th>3</th>\n",
              "      <td>276.292</td>\n",
              "      <td>1.26370</td>\n",
              "      <td>1.0</td>\n",
              "      <td>4.0</td>\n",
              "    </tr>\n",
              "    <tr>\n",
              "      <th>4</th>\n",
              "      <td>276.292</td>\n",
              "      <td>1.26370</td>\n",
              "      <td>1.0</td>\n",
              "      <td>4.0</td>\n",
              "    </tr>\n",
              "    <tr>\n",
              "      <th>...</th>\n",
              "      <td>...</td>\n",
              "      <td>...</td>\n",
              "      <td>...</td>\n",
              "      <td>...</td>\n",
              "    </tr>\n",
              "    <tr>\n",
              "      <th>230</th>\n",
              "      <td>376.437</td>\n",
              "      <td>4.40102</td>\n",
              "      <td>1.0</td>\n",
              "      <td>5.0</td>\n",
              "    </tr>\n",
              "    <tr>\n",
              "      <th>231</th>\n",
              "      <td>406.467</td>\n",
              "      <td>3.68662</td>\n",
              "      <td>3.0</td>\n",
              "      <td>7.0</td>\n",
              "    </tr>\n",
              "    <tr>\n",
              "      <th>232</th>\n",
              "      <td>151.165</td>\n",
              "      <td>1.69030</td>\n",
              "      <td>2.0</td>\n",
              "      <td>3.0</td>\n",
              "    </tr>\n",
              "    <tr>\n",
              "      <th>233</th>\n",
              "      <td>407.451</td>\n",
              "      <td>4.20212</td>\n",
              "      <td>3.0</td>\n",
              "      <td>7.0</td>\n",
              "    </tr>\n",
              "    <tr>\n",
              "      <th>234</th>\n",
              "      <td>69.491</td>\n",
              "      <td>-0.24390</td>\n",
              "      <td>2.0</td>\n",
              "      <td>2.0</td>\n",
              "    </tr>\n",
              "  </tbody>\n",
              "</table>\n",
              "<p>235 rows × 4 columns</p>\n",
              "</div>"
            ],
            "text/plain": [
              "          MW     LogP  NumHDonors  NumHAcceptors\n",
              "0    214.221  0.22590         1.0            4.0\n",
              "1    228.248  0.61760         1.0            4.0\n",
              "2    354.362  2.47780         2.0            4.0\n",
              "3    276.292  1.26370         1.0            4.0\n",
              "4    276.292  1.26370         1.0            4.0\n",
              "..       ...      ...         ...            ...\n",
              "230  376.437  4.40102         1.0            5.0\n",
              "231  406.467  3.68662         3.0            7.0\n",
              "232  151.165  1.69030         2.0            3.0\n",
              "233  407.451  4.20212         3.0            7.0\n",
              "234   69.491 -0.24390         2.0            2.0\n",
              "\n",
              "[235 rows x 4 columns]"
            ]
          },
          "metadata": {},
          "execution_count": 43
        }
      ]
    },
    {
      "cell_type": "code",
      "metadata": {
        "id": "1enQ62LmfdH9"
      },
      "source": [
        "# We have Lipinski's properties now but we don't know to which it remains.  We need to link the data.\n",
        "# bioactivity_data_smiles: molecule_chembl_id, standard_value, bioactivity, canonical_smiles\n",
        "# bioactivity_data_smiles_lipinski: MW, LogP, NumHDonors, NumHAcceptors"
      ],
      "execution_count": null,
      "outputs": []
    },
    {
      "cell_type": "code",
      "metadata": {
        "colab": {
          "base_uri": "https://localhost:8080/",
          "height": 418
        },
        "collapsed": true,
        "id": "QvVdTWsZkPf0",
        "outputId": "758e8200-a012-4bf9-a357-eeee20cc0c6c"
      },
      "source": [
        "bioactivity_data_combined = pd.concat([bioactivity_data_clean_index,bioactivity_data_smiles_lipinski], axis=1)\n",
        "bioactivity_data_combined"
      ],
      "execution_count": null,
      "outputs": [
        {
          "output_type": "execute_result",
          "data": {
            "text/html": [
              "<div>\n",
              "<style scoped>\n",
              "    .dataframe tbody tr th:only-of-type {\n",
              "        vertical-align: middle;\n",
              "    }\n",
              "\n",
              "    .dataframe tbody tr th {\n",
              "        vertical-align: top;\n",
              "    }\n",
              "\n",
              "    .dataframe thead th {\n",
              "        text-align: right;\n",
              "    }\n",
              "</style>\n",
              "<table border=\"1\" class=\"dataframe\">\n",
              "  <thead>\n",
              "    <tr style=\"text-align: right;\">\n",
              "      <th></th>\n",
              "      <th>molecule_chembl_id</th>\n",
              "      <th>canonical_smiles</th>\n",
              "      <th>standard_value</th>\n",
              "      <th>bioactivity</th>\n",
              "      <th>MW</th>\n",
              "      <th>LogP</th>\n",
              "      <th>NumHDonors</th>\n",
              "      <th>NumHAcceptors</th>\n",
              "    </tr>\n",
              "  </thead>\n",
              "  <tbody>\n",
              "    <tr>\n",
              "      <th>0</th>\n",
              "      <td>CHEMBL122071</td>\n",
              "      <td>CC(=O)O[C@@H]1CC(=O)N1C(=O)NC(C)C</td>\n",
              "      <td>100000.0</td>\n",
              "      <td>inactive</td>\n",
              "      <td>214.221</td>\n",
              "      <td>0.22590</td>\n",
              "      <td>1.0</td>\n",
              "      <td>4.0</td>\n",
              "    </tr>\n",
              "    <tr>\n",
              "      <th>1</th>\n",
              "      <td>CHEMBL124107</td>\n",
              "      <td>CCCCNC(=O)N1C(=O)C[C@H]1OC(C)=O</td>\n",
              "      <td>68000.0</td>\n",
              "      <td>inactive</td>\n",
              "      <td>228.248</td>\n",
              "      <td>0.61760</td>\n",
              "      <td>1.0</td>\n",
              "      <td>4.0</td>\n",
              "    </tr>\n",
              "    <tr>\n",
              "      <th>2</th>\n",
              "      <td>CHEMBL120853</td>\n",
              "      <td>C[C@@H]1C(=O)N(C(=O)NCc2ccccc2)[C@@H]1Oc1ccc(C...</td>\n",
              "      <td>100000.0</td>\n",
              "      <td>inactive</td>\n",
              "      <td>354.362</td>\n",
              "      <td>2.47780</td>\n",
              "      <td>2.0</td>\n",
              "      <td>4.0</td>\n",
              "    </tr>\n",
              "    <tr>\n",
              "      <th>3</th>\n",
              "      <td>CHEMBL122296</td>\n",
              "      <td>CC(=O)O[C@@H]1[C@@H](C)C(=O)N1C(=O)NCc1ccccc1</td>\n",
              "      <td>6500.0</td>\n",
              "      <td>intermediate</td>\n",
              "      <td>276.292</td>\n",
              "      <td>1.26370</td>\n",
              "      <td>1.0</td>\n",
              "      <td>4.0</td>\n",
              "    </tr>\n",
              "    <tr>\n",
              "      <th>4</th>\n",
              "      <td>CHEMBL333734</td>\n",
              "      <td>CC(=O)O[C@@H]1[C@H](C)C(=O)N1C(=O)NCc1ccccc1</td>\n",
              "      <td>27000.0</td>\n",
              "      <td>inactive</td>\n",
              "      <td>276.292</td>\n",
              "      <td>1.26370</td>\n",
              "      <td>1.0</td>\n",
              "      <td>4.0</td>\n",
              "    </tr>\n",
              "    <tr>\n",
              "      <th>...</th>\n",
              "      <td>...</td>\n",
              "      <td>...</td>\n",
              "      <td>...</td>\n",
              "      <td>...</td>\n",
              "      <td>...</td>\n",
              "      <td>...</td>\n",
              "      <td>...</td>\n",
              "      <td>...</td>\n",
              "    </tr>\n",
              "    <tr>\n",
              "      <th>230</th>\n",
              "      <td>CHEMBL106921</td>\n",
              "      <td>Cc1csc2nc(Cc3cccc(NC(=O)c4ccccc4)c3)oc(=O)c12</td>\n",
              "      <td>1500.0</td>\n",
              "      <td>intermediate</td>\n",
              "      <td>376.437</td>\n",
              "      <td>4.40102</td>\n",
              "      <td>1.0</td>\n",
              "      <td>5.0</td>\n",
              "    </tr>\n",
              "    <tr>\n",
              "      <th>231</th>\n",
              "      <td>CHEMBL107963</td>\n",
              "      <td>Cc1csc2nc(Cc3cccc(NC(=O)c4ccc(NN)cc4)c3)oc(=O)c12</td>\n",
              "      <td>2400.0</td>\n",
              "      <td>intermediate</td>\n",
              "      <td>406.467</td>\n",
              "      <td>3.68662</td>\n",
              "      <td>3.0</td>\n",
              "      <td>7.0</td>\n",
              "    </tr>\n",
              "    <tr>\n",
              "      <th>232</th>\n",
              "      <td>CHEMBL106641</td>\n",
              "      <td>CC(=O)c1cccc(NO)c1</td>\n",
              "      <td>11000.0</td>\n",
              "      <td>inactive</td>\n",
              "      <td>151.165</td>\n",
              "      <td>1.69030</td>\n",
              "      <td>2.0</td>\n",
              "      <td>3.0</td>\n",
              "    </tr>\n",
              "    <tr>\n",
              "      <th>233</th>\n",
              "      <td>CHEMBL108677</td>\n",
              "      <td>Cc1csc2nc(Cc3cccc(NC(=O)c4ccc(NO)cc4)c3)oc(=O)c12</td>\n",
              "      <td>61.0</td>\n",
              "      <td>active</td>\n",
              "      <td>407.451</td>\n",
              "      <td>4.20212</td>\n",
              "      <td>3.0</td>\n",
              "      <td>7.0</td>\n",
              "    </tr>\n",
              "    <tr>\n",
              "      <th>234</th>\n",
              "      <td>CHEMBL542448</td>\n",
              "      <td>Cl.NO</td>\n",
              "      <td>33000.0</td>\n",
              "      <td>inactive</td>\n",
              "      <td>69.491</td>\n",
              "      <td>-0.24390</td>\n",
              "      <td>2.0</td>\n",
              "      <td>2.0</td>\n",
              "    </tr>\n",
              "  </tbody>\n",
              "</table>\n",
              "<p>235 rows × 8 columns</p>\n",
              "</div>"
            ],
            "text/plain": [
              "    molecule_chembl_id  ... NumHAcceptors\n",
              "0         CHEMBL122071  ...           4.0\n",
              "1         CHEMBL124107  ...           4.0\n",
              "2         CHEMBL120853  ...           4.0\n",
              "3         CHEMBL122296  ...           4.0\n",
              "4         CHEMBL333734  ...           4.0\n",
              "..                 ...  ...           ...\n",
              "230       CHEMBL106921  ...           5.0\n",
              "231       CHEMBL107963  ...           7.0\n",
              "232       CHEMBL106641  ...           3.0\n",
              "233       CHEMBL108677  ...           7.0\n",
              "234       CHEMBL542448  ...           2.0\n",
              "\n",
              "[235 rows x 8 columns]"
            ]
          },
          "metadata": {},
          "execution_count": 45
        }
      ]
    },
    {
      "cell_type": "code",
      "metadata": {
        "colab": {
          "base_uri": "https://localhost:8080/",
          "height": 378
        },
        "id": "PpxKnfLAUbbx",
        "outputId": "75671bb4-eb4a-4b38-9507-2b1ad568afd3"
      },
      "source": [
        "# Box plots: pIC50 value\n",
        "plt.figure(figsize=(5.5, 5.5))\n",
        "\n",
        "sns.boxplot(x = 'bioactivity', y = 'standard_value', data = bioactivity_data_combined)\n",
        "\n",
        "plt.xlabel('Bioactivity class', fontsize=14, fontweight='bold')\n",
        "plt.ylabel('pIC50 value', fontsize=14, fontweight='bold')\n",
        "\n",
        "plt.savefig('plot_ic50.pdf')"
      ],
      "execution_count": null,
      "outputs": [
        {
          "output_type": "display_data",
          "data": {
            "image/png": "[encoded data removed]",
            "text/plain": [
              "<Figure size 396x396 with 1 Axes>"
            ]
          },
          "metadata": {}
        }
      ]
    },
    {
      "cell_type": "code",
      "metadata": {
        "id": "LMsumnkesXDf"
      },
      "source": [
        "# Convert IC50 to pIC50: \n",
        "# to allow IC50 data to be more uniformly distributed, we will convert IC50 to the negative logarithmic scale which is essentially -log10(IC50)\n",
        "\n",
        "\n",
        "# This custom function pIC50() will accept a DataFrame as input and will:\n",
        "\n",
        "# Take the IC50 values from the standard_value column and converts it from nM to M by multiplying the value by 10^{-9}\n",
        "# Take the molar value and apply -log10\n",
        "# Delete the standard_value column and create a new pIC50 column\n"
      ],
      "execution_count": null,
      "outputs": []
    },
    {
      "cell_type": "code",
      "metadata": {
        "id": "wnW-gtA1s3et"
      },
      "source": [
        "# https://github.com/chaninlab/estrogen-receptor-alpha-qsar/blob/master/02_ER_alpha_RO5.ipynb\n",
        "import numpy as np\n",
        "\n",
        "def pIC50(input):\n",
        "    pIC50 = []\n",
        "\n",
        "    for i in input['standard_value_norm']:\n",
        "        molar = i*(10**-9) # Converts nM to M\n",
        "        pIC50.append(-np.log10(molar))\n",
        "\n",
        "    input['pIC50'] = pIC50\n",
        "    x = input.drop('standard_value_norm', 1)\n",
        "        \n",
        "    return x"
      ],
      "execution_count": null,
      "outputs": []
    },
    {
      "cell_type": "code",
      "metadata": {
        "colab": {
          "base_uri": "https://localhost:8080/"
        },
        "id": "fw4e92aYtoIL",
        "outputId": "9e6e5c8a-eb39-4dc9-bb26-cbec65451623"
      },
      "source": [
        "# Values greater than 100,000,000 will be fixed as 100,000,000 otherwise the negative logarithmic value will become negative.\n",
        "bioactivity_data_combined.standard_value.describe()"
      ],
      "execution_count": null,
      "outputs": [
        {
          "output_type": "execute_result",
          "data": {
            "text/plain": [
              "count        235.000000\n",
              "mean       56209.900000\n",
              "std       140630.107253\n",
              "min            2.700000\n",
              "25%          180.000000\n",
              "50%         1400.000000\n",
              "75%        33000.000000\n",
              "max      1000000.000000\n",
              "Name: standard_value, dtype: float64"
            ]
          },
          "metadata": {},
          "execution_count": 68
        }
      ]
    },
    {
      "cell_type": "code",
      "metadata": {
        "colab": {
          "base_uri": "https://localhost:8080/"
        },
        "id": "Nz49JbOZuUGj",
        "outputId": "5525eb91-3301-4566-e9e9-8e02d3716385"
      },
      "source": [
        "-np.log10( (10**-9)* 100000000 )"
      ],
      "execution_count": null,
      "outputs": [
        {
          "output_type": "execute_result",
          "data": {
            "text/plain": [
              "1.0"
            ]
          },
          "metadata": {},
          "execution_count": 69
        }
      ]
    },
    {
      "cell_type": "code",
      "metadata": {
        "colab": {
          "base_uri": "https://localhost:8080/"
        },
        "id": "YDUKfSENuXo1",
        "outputId": "94efc14a-87ea-44c6-e354-6b9549e2ff49"
      },
      "source": [
        "-np.log10( (10**-9)* 10000000000 )"
      ],
      "execution_count": null,
      "outputs": [
        {
          "output_type": "execute_result",
          "data": {
            "text/plain": [
              "-1.0"
            ]
          },
          "metadata": {},
          "execution_count": 70
        }
      ]
    },
    {
      "cell_type": "code",
      "metadata": {
        "id": "-XQAf66xubEE"
      },
      "source": [
        "# Values greater than 100000000 are replaced by 100000000\n",
        "def norm_value(input):\n",
        "    norm = []\n",
        "\n",
        "    for i in input['standard_value']:\n",
        "        if i > 100000000:\n",
        "          i = 100000000\n",
        "        norm.append(i)\n",
        "\n",
        "    input['standard_value_norm'] = norm\n",
        "    x = input.drop('standard_value',axis = 1)\n",
        "        \n",
        "    return x"
      ],
      "execution_count": null,
      "outputs": []
    },
    {
      "cell_type": "code",
      "metadata": {
        "colab": {
          "base_uri": "https://localhost:8080/",
          "height": 418
        },
        "id": "-Ys9Aw0BueIm",
        "outputId": "ec5c105e-43aa-4337-bdbe-4cb6a944c0ca"
      },
      "source": [
        "# The values in the standard_value column are normalized\n",
        "bioactivity_data_combined_norm = norm_value(bioactivity_data_combined)\n",
        "bioactivity_data_combined_norm"
      ],
      "execution_count": null,
      "outputs": [
        {
          "output_type": "execute_result",
          "data": {
            "text/html": [
              "<div>\n",
              "<style scoped>\n",
              "    .dataframe tbody tr th:only-of-type {\n",
              "        vertical-align: middle;\n",
              "    }\n",
              "\n",
              "    .dataframe tbody tr th {\n",
              "        vertical-align: top;\n",
              "    }\n",
              "\n",
              "    .dataframe thead th {\n",
              "        text-align: right;\n",
              "    }\n",
              "</style>\n",
              "<table border=\"1\" class=\"dataframe\">\n",
              "  <thead>\n",
              "    <tr style=\"text-align: right;\">\n",
              "      <th></th>\n",
              "      <th>molecule_chembl_id</th>\n",
              "      <th>canonical_smiles</th>\n",
              "      <th>bioactivity</th>\n",
              "      <th>MW</th>\n",
              "      <th>LogP</th>\n",
              "      <th>NumHDonors</th>\n",
              "      <th>NumHAcceptors</th>\n",
              "      <th>standard_value_norm</th>\n",
              "    </tr>\n",
              "  </thead>\n",
              "  <tbody>\n",
              "    <tr>\n",
              "      <th>0</th>\n",
              "      <td>CHEMBL122071</td>\n",
              "      <td>CC(=O)O[C@@H]1CC(=O)N1C(=O)NC(C)C</td>\n",
              "      <td>inactive</td>\n",
              "      <td>214.221</td>\n",
              "      <td>0.22590</td>\n",
              "      <td>1.0</td>\n",
              "      <td>4.0</td>\n",
              "      <td>100000.0</td>\n",
              "    </tr>\n",
              "    <tr>\n",
              "      <th>1</th>\n",
              "      <td>CHEMBL124107</td>\n",
              "      <td>CCCCNC(=O)N1C(=O)C[C@H]1OC(C)=O</td>\n",
              "      <td>inactive</td>\n",
              "      <td>228.248</td>\n",
              "      <td>0.61760</td>\n",
              "      <td>1.0</td>\n",
              "      <td>4.0</td>\n",
              "      <td>68000.0</td>\n",
              "    </tr>\n",
              "    <tr>\n",
              "      <th>2</th>\n",
              "      <td>CHEMBL120853</td>\n",
              "      <td>C[C@@H]1C(=O)N(C(=O)NCc2ccccc2)[C@@H]1Oc1ccc(C...</td>\n",
              "      <td>inactive</td>\n",
              "      <td>354.362</td>\n",
              "      <td>2.47780</td>\n",
              "      <td>2.0</td>\n",
              "      <td>4.0</td>\n",
              "      <td>100000.0</td>\n",
              "    </tr>\n",
              "    <tr>\n",
              "      <th>3</th>\n",
              "      <td>CHEMBL122296</td>\n",
              "      <td>CC(=O)O[C@@H]1[C@@H](C)C(=O)N1C(=O)NCc1ccccc1</td>\n",
              "      <td>intermediate</td>\n",
              "      <td>276.292</td>\n",
              "      <td>1.26370</td>\n",
              "      <td>1.0</td>\n",
              "      <td>4.0</td>\n",
              "      <td>6500.0</td>\n",
              "    </tr>\n",
              "    <tr>\n",
              "      <th>4</th>\n",
              "      <td>CHEMBL333734</td>\n",
              "      <td>CC(=O)O[C@@H]1[C@H](C)C(=O)N1C(=O)NCc1ccccc1</td>\n",
              "      <td>inactive</td>\n",
              "      <td>276.292</td>\n",
              "      <td>1.26370</td>\n",
              "      <td>1.0</td>\n",
              "      <td>4.0</td>\n",
              "      <td>27000.0</td>\n",
              "    </tr>\n",
              "    <tr>\n",
              "      <th>...</th>\n",
              "      <td>...</td>\n",
              "      <td>...</td>\n",
              "      <td>...</td>\n",
              "      <td>...</td>\n",
              "      <td>...</td>\n",
              "      <td>...</td>\n",
              "      <td>...</td>\n",
              "      <td>...</td>\n",
              "    </tr>\n",
              "    <tr>\n",
              "      <th>230</th>\n",
              "      <td>CHEMBL106921</td>\n",
              "      <td>Cc1csc2nc(Cc3cccc(NC(=O)c4ccccc4)c3)oc(=O)c12</td>\n",
              "      <td>intermediate</td>\n",
              "      <td>376.437</td>\n",
              "      <td>4.40102</td>\n",
              "      <td>1.0</td>\n",
              "      <td>5.0</td>\n",
              "      <td>1500.0</td>\n",
              "    </tr>\n",
              "    <tr>\n",
              "      <th>231</th>\n",
              "      <td>CHEMBL107963</td>\n",
              "      <td>Cc1csc2nc(Cc3cccc(NC(=O)c4ccc(NN)cc4)c3)oc(=O)c12</td>\n",
              "      <td>intermediate</td>\n",
              "      <td>406.467</td>\n",
              "      <td>3.68662</td>\n",
              "      <td>3.0</td>\n",
              "      <td>7.0</td>\n",
              "      <td>2400.0</td>\n",
              "    </tr>\n",
              "    <tr>\n",
              "      <th>232</th>\n",
              "      <td>CHEMBL106641</td>\n",
              "      <td>CC(=O)c1cccc(NO)c1</td>\n",
              "      <td>inactive</td>\n",
              "      <td>151.165</td>\n",
              "      <td>1.69030</td>\n",
              "      <td>2.0</td>\n",
              "      <td>3.0</td>\n",
              "      <td>11000.0</td>\n",
              "    </tr>\n",
              "    <tr>\n",
              "      <th>233</th>\n",
              "      <td>CHEMBL108677</td>\n",
              "      <td>Cc1csc2nc(Cc3cccc(NC(=O)c4ccc(NO)cc4)c3)oc(=O)c12</td>\n",
              "      <td>active</td>\n",
              "      <td>407.451</td>\n",
              "      <td>4.20212</td>\n",
              "      <td>3.0</td>\n",
              "      <td>7.0</td>\n",
              "      <td>61.0</td>\n",
              "    </tr>\n",
              "    <tr>\n",
              "      <th>234</th>\n",
              "      <td>CHEMBL542448</td>\n",
              "      <td>Cl.NO</td>\n",
              "      <td>inactive</td>\n",
              "      <td>69.491</td>\n",
              "      <td>-0.24390</td>\n",
              "      <td>2.0</td>\n",
              "      <td>2.0</td>\n",
              "      <td>33000.0</td>\n",
              "    </tr>\n",
              "  </tbody>\n",
              "</table>\n",
              "<p>235 rows × 8 columns</p>\n",
              "</div>"
            ],
            "text/plain": [
              "    molecule_chembl_id  ... standard_value_norm\n",
              "0         CHEMBL122071  ...            100000.0\n",
              "1         CHEMBL124107  ...             68000.0\n",
              "2         CHEMBL120853  ...            100000.0\n",
              "3         CHEMBL122296  ...              6500.0\n",
              "4         CHEMBL333734  ...             27000.0\n",
              "..                 ...  ...                 ...\n",
              "230       CHEMBL106921  ...              1500.0\n",
              "231       CHEMBL107963  ...              2400.0\n",
              "232       CHEMBL106641  ...             11000.0\n",
              "233       CHEMBL108677  ...                61.0\n",
              "234       CHEMBL542448  ...             33000.0\n",
              "\n",
              "[235 rows x 8 columns]"
            ]
          },
          "metadata": {},
          "execution_count": 72
        }
      ]
    },
    {
      "cell_type": "code",
      "metadata": {
        "colab": {
          "base_uri": "https://localhost:8080/"
        },
        "id": "TTf3vzzDuxMf",
        "outputId": "10ef4905-3e95-41df-fff2-c8a723832c5d"
      },
      "source": [
        "bioactivity_data_combined_norm.standard_value_norm.describe()"
      ],
      "execution_count": null,
      "outputs": [
        {
          "output_type": "execute_result",
          "data": {
            "text/plain": [
              "count        235.000000\n",
              "mean       56209.900000\n",
              "std       140630.107253\n",
              "min            2.700000\n",
              "25%          180.000000\n",
              "50%         1400.000000\n",
              "75%        33000.000000\n",
              "max      1000000.000000\n",
              "Name: standard_value_norm, dtype: float64"
            ]
          },
          "metadata": {},
          "execution_count": 73
        }
      ]
    },
    {
      "cell_type": "code",
      "metadata": {
        "colab": {
          "base_uri": "https://localhost:8080/",
          "height": 378
        },
        "id": "MhmJN9n2UQ9T",
        "outputId": "374ef0e8-fbe7-4922-d4e2-53ffbececba8"
      },
      "source": [
        "# Box plots: pIC50 value\n",
        "plt.figure(figsize=(5.5, 5.5))\n",
        "\n",
        "sns.boxplot(x = 'bioactivity', y = 'standard_value_norm', data = bioactivity_data_combined_norm)\n",
        "\n",
        "plt.xlabel('Bioactivity class', fontsize=14, fontweight='bold')\n",
        "plt.ylabel('pIC50 value', fontsize=14, fontweight='bold')\n",
        "\n",
        "plt.savefig('plot_ic50.pdf')"
      ],
      "execution_count": null,
      "outputs": [
        {
          "output_type": "display_data",
          "data": {
            "image/png": "[encoded data removed]",
            "text/plain": [
              "<Figure size 396x396 with 1 Axes>"
            ]
          },
          "metadata": {}
        }
      ]
    },
    {
      "cell_type": "code",
      "metadata": {
        "colab": {
          "base_uri": "https://localhost:8080/",
          "height": 418
        },
        "id": "AJbO38GDu7Km",
        "outputId": "8dc79ec8-0e67-4806-83f4-3d47e013ecc2"
      },
      "source": [
        "bioactivity_data_final = pIC50(bioactivity_data_combined_norm)\n",
        "bioactivity_data_final"
      ],
      "execution_count": null,
      "outputs": [
        {
          "output_type": "execute_result",
          "data": {
            "text/html": [
              "<div>\n",
              "<style scoped>\n",
              "    .dataframe tbody tr th:only-of-type {\n",
              "        vertical-align: middle;\n",
              "    }\n",
              "\n",
              "    .dataframe tbody tr th {\n",
              "        vertical-align: top;\n",
              "    }\n",
              "\n",
              "    .dataframe thead th {\n",
              "        text-align: right;\n",
              "    }\n",
              "</style>\n",
              "<table border=\"1\" class=\"dataframe\">\n",
              "  <thead>\n",
              "    <tr style=\"text-align: right;\">\n",
              "      <th></th>\n",
              "      <th>molecule_chembl_id</th>\n",
              "      <th>canonical_smiles</th>\n",
              "      <th>bioactivity</th>\n",
              "      <th>MW</th>\n",
              "      <th>LogP</th>\n",
              "      <th>NumHDonors</th>\n",
              "      <th>NumHAcceptors</th>\n",
              "      <th>pIC50</th>\n",
              "    </tr>\n",
              "  </thead>\n",
              "  <tbody>\n",
              "    <tr>\n",
              "      <th>0</th>\n",
              "      <td>CHEMBL122071</td>\n",
              "      <td>CC(=O)O[C@@H]1CC(=O)N1C(=O)NC(C)C</td>\n",
              "      <td>inactive</td>\n",
              "      <td>214.221</td>\n",
              "      <td>0.22590</td>\n",
              "      <td>1.0</td>\n",
              "      <td>4.0</td>\n",
              "      <td>4.000000</td>\n",
              "    </tr>\n",
              "    <tr>\n",
              "      <th>1</th>\n",
              "      <td>CHEMBL124107</td>\n",
              "      <td>CCCCNC(=O)N1C(=O)C[C@H]1OC(C)=O</td>\n",
              "      <td>inactive</td>\n",
              "      <td>228.248</td>\n",
              "      <td>0.61760</td>\n",
              "      <td>1.0</td>\n",
              "      <td>4.0</td>\n",
              "      <td>4.167491</td>\n",
              "    </tr>\n",
              "    <tr>\n",
              "      <th>2</th>\n",
              "      <td>CHEMBL120853</td>\n",
              "      <td>C[C@@H]1C(=O)N(C(=O)NCc2ccccc2)[C@@H]1Oc1ccc(C...</td>\n",
              "      <td>inactive</td>\n",
              "      <td>354.362</td>\n",
              "      <td>2.47780</td>\n",
              "      <td>2.0</td>\n",
              "      <td>4.0</td>\n",
              "      <td>4.000000</td>\n",
              "    </tr>\n",
              "    <tr>\n",
              "      <th>3</th>\n",
              "      <td>CHEMBL122296</td>\n",
              "      <td>CC(=O)O[C@@H]1[C@@H](C)C(=O)N1C(=O)NCc1ccccc1</td>\n",
              "      <td>intermediate</td>\n",
              "      <td>276.292</td>\n",
              "      <td>1.26370</td>\n",
              "      <td>1.0</td>\n",
              "      <td>4.0</td>\n",
              "      <td>5.187087</td>\n",
              "    </tr>\n",
              "    <tr>\n",
              "      <th>4</th>\n",
              "      <td>CHEMBL333734</td>\n",
              "      <td>CC(=O)O[C@@H]1[C@H](C)C(=O)N1C(=O)NCc1ccccc1</td>\n",
              "      <td>inactive</td>\n",
              "      <td>276.292</td>\n",
              "      <td>1.26370</td>\n",
              "      <td>1.0</td>\n",
              "      <td>4.0</td>\n",
              "      <td>4.568636</td>\n",
              "    </tr>\n",
              "    <tr>\n",
              "      <th>...</th>\n",
              "      <td>...</td>\n",
              "      <td>...</td>\n",
              "      <td>...</td>\n",
              "      <td>...</td>\n",
              "      <td>...</td>\n",
              "      <td>...</td>\n",
              "      <td>...</td>\n",
              "      <td>...</td>\n",
              "    </tr>\n",
              "    <tr>\n",
              "      <th>230</th>\n",
              "      <td>CHEMBL106921</td>\n",
              "      <td>Cc1csc2nc(Cc3cccc(NC(=O)c4ccccc4)c3)oc(=O)c12</td>\n",
              "      <td>intermediate</td>\n",
              "      <td>376.437</td>\n",
              "      <td>4.40102</td>\n",
              "      <td>1.0</td>\n",
              "      <td>5.0</td>\n",
              "      <td>5.823909</td>\n",
              "    </tr>\n",
              "    <tr>\n",
              "      <th>231</th>\n",
              "      <td>CHEMBL107963</td>\n",
              "      <td>Cc1csc2nc(Cc3cccc(NC(=O)c4ccc(NN)cc4)c3)oc(=O)c12</td>\n",
              "      <td>intermediate</td>\n",
              "      <td>406.467</td>\n",
              "      <td>3.68662</td>\n",
              "      <td>3.0</td>\n",
              "      <td>7.0</td>\n",
              "      <td>5.619789</td>\n",
              "    </tr>\n",
              "    <tr>\n",
              "      <th>232</th>\n",
              "      <td>CHEMBL106641</td>\n",
              "      <td>CC(=O)c1cccc(NO)c1</td>\n",
              "      <td>inactive</td>\n",
              "      <td>151.165</td>\n",
              "      <td>1.69030</td>\n",
              "      <td>2.0</td>\n",
              "      <td>3.0</td>\n",
              "      <td>4.958607</td>\n",
              "    </tr>\n",
              "    <tr>\n",
              "      <th>233</th>\n",
              "      <td>CHEMBL108677</td>\n",
              "      <td>Cc1csc2nc(Cc3cccc(NC(=O)c4ccc(NO)cc4)c3)oc(=O)c12</td>\n",
              "      <td>active</td>\n",
              "      <td>407.451</td>\n",
              "      <td>4.20212</td>\n",
              "      <td>3.0</td>\n",
              "      <td>7.0</td>\n",
              "      <td>7.214670</td>\n",
              "    </tr>\n",
              "    <tr>\n",
              "      <th>234</th>\n",
              "      <td>CHEMBL542448</td>\n",
              "      <td>Cl.NO</td>\n",
              "      <td>inactive</td>\n",
              "      <td>69.491</td>\n",
              "      <td>-0.24390</td>\n",
              "      <td>2.0</td>\n",
              "      <td>2.0</td>\n",
              "      <td>4.481486</td>\n",
              "    </tr>\n",
              "  </tbody>\n",
              "</table>\n",
              "<p>235 rows × 8 columns</p>\n",
              "</div>"
            ],
            "text/plain": [
              "    molecule_chembl_id  ...     pIC50\n",
              "0         CHEMBL122071  ...  4.000000\n",
              "1         CHEMBL124107  ...  4.167491\n",
              "2         CHEMBL120853  ...  4.000000\n",
              "3         CHEMBL122296  ...  5.187087\n",
              "4         CHEMBL333734  ...  4.568636\n",
              "..                 ...  ...       ...\n",
              "230       CHEMBL106921  ...  5.823909\n",
              "231       CHEMBL107963  ...  5.619789\n",
              "232       CHEMBL106641  ...  4.958607\n",
              "233       CHEMBL108677  ...  7.214670\n",
              "234       CHEMBL542448  ...  4.481486\n",
              "\n",
              "[235 rows x 8 columns]"
            ]
          },
          "metadata": {},
          "execution_count": 75
        }
      ]
    },
    {
      "cell_type": "code",
      "metadata": {
        "colab": {
          "base_uri": "https://localhost:8080/"
        },
        "id": "9g5Kt5vjvCiJ",
        "outputId": "c97696f7-afbd-47b5-a9c6-1a5353288d92"
      },
      "source": [
        "bioactivity_data_final.pIC50.describe()"
      ],
      "execution_count": null,
      "outputs": [
        {
          "output_type": "execute_result",
          "data": {
            "text/plain": [
              "count    235.000000\n",
              "mean       5.793012\n",
              "std        1.478159\n",
              "min        3.000000\n",
              "25%        4.481486\n",
              "50%        5.853872\n",
              "75%        6.744727\n",
              "max        8.568636\n",
              "Name: pIC50, dtype: float64"
            ]
          },
          "metadata": {},
          "execution_count": 76
        }
      ]
    },
    {
      "cell_type": "code",
      "metadata": {
        "id": "KMZsBACbvJ6a"
      },
      "source": [
        "# Save all these data in a csv file\n",
        "bioactivity_data_final.to_csv('genital_herpes_04_bioactivity_data_3class_pIC50.csv')"
      ],
      "execution_count": null,
      "outputs": []
    },
    {
      "cell_type": "code",
      "metadata": {
        "colab": {
          "base_uri": "https://localhost:8080/",
          "height": 367
        },
        "id": "tAFxyav_T7xw",
        "outputId": "7aa8eef8-5f36-4d38-fbd4-bdf6fa290948"
      },
      "source": [
        "# Box plots: pIC50 value\n",
        "plt.figure(figsize=(5.5, 5.5))\n",
        "\n",
        "sns.boxplot(x = 'bioactivity', y = 'pIC50', data = bioactivity_data_final)\n",
        "\n",
        "plt.xlabel('Bioactivity class', fontsize=14, fontweight='bold')\n",
        "plt.ylabel('pIC50 value', fontsize=14, fontweight='bold')\n",
        "\n",
        "plt.savefig('plot_ic50.pdf')"
      ],
      "execution_count": null,
      "outputs": [
        {
          "output_type": "display_data",
          "data": {
            "image/png": "[encoded data removed]",
            "text/plain": [
              "<Figure size 396x396 with 1 Axes>"
            ]
          },
          "metadata": {}
        }
      ]
    },
    {
      "cell_type": "code",
      "metadata": {
        "colab": {
          "base_uri": "https://localhost:8080/",
          "height": 418
        },
        "id": "XMWOqtuI2AKD",
        "outputId": "2f58e5d0-2452-4ee2-928d-80208d4abb7b"
      },
      "source": [
        "# Remove the 'intermediate' bioactivity class\n",
        "bioactivity_data_2class = bioactivity_data_final[bioactivity_data_final['bioactivity'] != 'intermediate']\n",
        "bioactivity_data_2class"
      ],
      "execution_count": null,
      "outputs": [
        {
          "output_type": "execute_result",
          "data": {
            "text/html": [
              "<div>\n",
              "<style scoped>\n",
              "    .dataframe tbody tr th:only-of-type {\n",
              "        vertical-align: middle;\n",
              "    }\n",
              "\n",
              "    .dataframe tbody tr th {\n",
              "        vertical-align: top;\n",
              "    }\n",
              "\n",
              "    .dataframe thead th {\n",
              "        text-align: right;\n",
              "    }\n",
              "</style>\n",
              "<table border=\"1\" class=\"dataframe\">\n",
              "  <thead>\n",
              "    <tr style=\"text-align: right;\">\n",
              "      <th></th>\n",
              "      <th>molecule_chembl_id</th>\n",
              "      <th>canonical_smiles</th>\n",
              "      <th>bioactivity</th>\n",
              "      <th>MW</th>\n",
              "      <th>LogP</th>\n",
              "      <th>NumHDonors</th>\n",
              "      <th>NumHAcceptors</th>\n",
              "      <th>pIC50</th>\n",
              "    </tr>\n",
              "  </thead>\n",
              "  <tbody>\n",
              "    <tr>\n",
              "      <th>0</th>\n",
              "      <td>CHEMBL122071</td>\n",
              "      <td>CC(=O)O[C@@H]1CC(=O)N1C(=O)NC(C)C</td>\n",
              "      <td>inactive</td>\n",
              "      <td>214.221</td>\n",
              "      <td>0.22590</td>\n",
              "      <td>1.0</td>\n",
              "      <td>4.0</td>\n",
              "      <td>4.000000</td>\n",
              "    </tr>\n",
              "    <tr>\n",
              "      <th>1</th>\n",
              "      <td>CHEMBL124107</td>\n",
              "      <td>CCCCNC(=O)N1C(=O)C[C@H]1OC(C)=O</td>\n",
              "      <td>inactive</td>\n",
              "      <td>228.248</td>\n",
              "      <td>0.61760</td>\n",
              "      <td>1.0</td>\n",
              "      <td>4.0</td>\n",
              "      <td>4.167491</td>\n",
              "    </tr>\n",
              "    <tr>\n",
              "      <th>2</th>\n",
              "      <td>CHEMBL120853</td>\n",
              "      <td>C[C@@H]1C(=O)N(C(=O)NCc2ccccc2)[C@@H]1Oc1ccc(C...</td>\n",
              "      <td>inactive</td>\n",
              "      <td>354.362</td>\n",
              "      <td>2.47780</td>\n",
              "      <td>2.0</td>\n",
              "      <td>4.0</td>\n",
              "      <td>4.000000</td>\n",
              "    </tr>\n",
              "    <tr>\n",
              "      <th>4</th>\n",
              "      <td>CHEMBL333734</td>\n",
              "      <td>CC(=O)O[C@@H]1[C@H](C)C(=O)N1C(=O)NCc1ccccc1</td>\n",
              "      <td>inactive</td>\n",
              "      <td>276.292</td>\n",
              "      <td>1.26370</td>\n",
              "      <td>1.0</td>\n",
              "      <td>4.0</td>\n",
              "      <td>4.568636</td>\n",
              "    </tr>\n",
              "    <tr>\n",
              "      <th>5</th>\n",
              "      <td>CHEMBL74483</td>\n",
              "      <td>CC[C@@H]1C(=O)N(C(=O)NCc2ccccc2)[C@@H]1Oc1ccc(...</td>\n",
              "      <td>inactive</td>\n",
              "      <td>368.389</td>\n",
              "      <td>2.86790</td>\n",
              "      <td>2.0</td>\n",
              "      <td>4.0</td>\n",
              "      <td>4.000000</td>\n",
              "    </tr>\n",
              "    <tr>\n",
              "      <th>...</th>\n",
              "      <td>...</td>\n",
              "      <td>...</td>\n",
              "      <td>...</td>\n",
              "      <td>...</td>\n",
              "      <td>...</td>\n",
              "      <td>...</td>\n",
              "      <td>...</td>\n",
              "      <td>...</td>\n",
              "    </tr>\n",
              "    <tr>\n",
              "      <th>228</th>\n",
              "      <td>CHEMBL322676</td>\n",
              "      <td>Cc1csc2nc(Cc3cccc(NC(=O)c4cccc(NO)c4)c3)oc(=O)c12</td>\n",
              "      <td>active</td>\n",
              "      <td>407.451</td>\n",
              "      <td>4.20212</td>\n",
              "      <td>3.0</td>\n",
              "      <td>7.0</td>\n",
              "      <td>7.346787</td>\n",
              "    </tr>\n",
              "    <tr>\n",
              "      <th>229</th>\n",
              "      <td>CHEMBL104662</td>\n",
              "      <td>Cc1csc2nc(Cc3ccc(C(=O)c4ccccc4)cc3)oc(=O)c12</td>\n",
              "      <td>active</td>\n",
              "      <td>361.422</td>\n",
              "      <td>4.37972</td>\n",
              "      <td>0.0</td>\n",
              "      <td>5.0</td>\n",
              "      <td>6.096910</td>\n",
              "    </tr>\n",
              "    <tr>\n",
              "      <th>232</th>\n",
              "      <td>CHEMBL106641</td>\n",
              "      <td>CC(=O)c1cccc(NO)c1</td>\n",
              "      <td>inactive</td>\n",
              "      <td>151.165</td>\n",
              "      <td>1.69030</td>\n",
              "      <td>2.0</td>\n",
              "      <td>3.0</td>\n",
              "      <td>4.958607</td>\n",
              "    </tr>\n",
              "    <tr>\n",
              "      <th>233</th>\n",
              "      <td>CHEMBL108677</td>\n",
              "      <td>Cc1csc2nc(Cc3cccc(NC(=O)c4ccc(NO)cc4)c3)oc(=O)c12</td>\n",
              "      <td>active</td>\n",
              "      <td>407.451</td>\n",
              "      <td>4.20212</td>\n",
              "      <td>3.0</td>\n",
              "      <td>7.0</td>\n",
              "      <td>7.214670</td>\n",
              "    </tr>\n",
              "    <tr>\n",
              "      <th>234</th>\n",
              "      <td>CHEMBL542448</td>\n",
              "      <td>Cl.NO</td>\n",
              "      <td>inactive</td>\n",
              "      <td>69.491</td>\n",
              "      <td>-0.24390</td>\n",
              "      <td>2.0</td>\n",
              "      <td>2.0</td>\n",
              "      <td>4.481486</td>\n",
              "    </tr>\n",
              "  </tbody>\n",
              "</table>\n",
              "<p>187 rows × 8 columns</p>\n",
              "</div>"
            ],
            "text/plain": [
              "    molecule_chembl_id  ...     pIC50\n",
              "0         CHEMBL122071  ...  4.000000\n",
              "1         CHEMBL124107  ...  4.167491\n",
              "2         CHEMBL120853  ...  4.000000\n",
              "4         CHEMBL333734  ...  4.568636\n",
              "5          CHEMBL74483  ...  4.000000\n",
              "..                 ...  ...       ...\n",
              "228       CHEMBL322676  ...  7.346787\n",
              "229       CHEMBL104662  ...  6.096910\n",
              "232       CHEMBL106641  ...  4.958607\n",
              "233       CHEMBL108677  ...  7.214670\n",
              "234       CHEMBL542448  ...  4.481486\n",
              "\n",
              "[187 rows x 8 columns]"
            ]
          },
          "metadata": {},
          "execution_count": 84
        }
      ]
    },
    {
      "cell_type": "code",
      "metadata": {
        "id": "wu0KK5q_2njx"
      },
      "source": [
        "# Save all these data in a csv file\n",
        "bioactivity_data_2class.to_csv('genital_herpes_05__bioactivity_data_2class_pIC50.csv')"
      ],
      "execution_count": null,
      "outputs": []
    },
    {
      "cell_type": "code",
      "metadata": {
        "id": "moD1-ICX2138"
      },
      "source": [
        "# Exploratory Data Analysis (Chemical Space Analysis) via Lipinski descriptors"
      ],
      "execution_count": null,
      "outputs": []
    },
    {
      "cell_type": "code",
      "metadata": {
        "id": "td4-jThn252X"
      },
      "source": [
        "# Import library\n",
        "import seaborn as sns\n",
        "sns.set(style='ticks')\n",
        "import matplotlib.pyplot as plt"
      ],
      "execution_count": null,
      "outputs": []
    },
    {
      "cell_type": "code",
      "metadata": {
        "colab": {
          "base_uri": "https://localhost:8080/",
          "height": 367
        },
        "id": "RzApKKXQ3F6Q",
        "outputId": "0b99c802-e6f6-4976-8e07-2c3e881efb7c"
      },
      "source": [
        "# Frequency plot of the 2 bioactivity classes\n",
        "plt.figure(figsize=(5.5, 5.5))\n",
        "\n",
        "sns.countplot(x='bioactivity', data=bioactivity_data_2class, edgecolor='black')\n",
        "\n",
        "plt.xlabel('Bioactivity class', fontsize=14, fontweight='bold')\n",
        "plt.ylabel('Frequency', fontsize=14, fontweight='bold')\n",
        "\n",
        "plt.savefig('plot_bioactivity_class.pdf')"
      ],
      "execution_count": null,
      "outputs": [
        {
          "output_type": "display_data",
          "data": {
            "image/png": "[encoded data removed]",
            "text/plain": [
              "<Figure size 396x396 with 1 Axes>"
            ]
          },
          "metadata": {}
        }
      ]
    },
    {
      "cell_type": "code",
      "metadata": {
        "colab": {
          "base_uri": "https://localhost:8080/",
          "height": 367
        },
        "id": "v9-aaP3z3W6G",
        "outputId": "9ef8a6d0-34b0-49ae-d481-a77dea8c7b60"
      },
      "source": [
        "# Scatter plot of MW versus LogP\n",
        "plt.figure(figsize=(5.5, 5.5))\n",
        "\n",
        "sns.scatterplot(x='MW', y='LogP', data=bioactivity_data_2class, hue='bioactivity', size='pIC50', edgecolor='black', alpha=0.7)\n",
        "\n",
        "plt.xlabel('MW', fontsize=14, fontweight='bold')\n",
        "plt.ylabel('LogP', fontsize=14, fontweight='bold')\n",
        "plt.legend(bbox_to_anchor=(1.05, 1), loc=2, borderaxespad=0)\n",
        "plt.savefig('plot_MW_vs_LogP.pdf')"
      ],
      "execution_count": null,
      "outputs": [
        {
          "output_type": "display_data",
          "data": {
            "image/png": "[encoded data removed]",
            "text/plain": [
              "<Figure size 396x396 with 1 Axes>"
            ]
          },
          "metadata": {}
        }
      ]
    },
    {
      "cell_type": "code",
      "metadata": {
        "colab": {
          "base_uri": "https://localhost:8080/",
          "height": 367
        },
        "id": "qeFDMoqz4eK9",
        "outputId": "4f02cb15-a7d8-4e99-c464-25f45f698900"
      },
      "source": [
        "# Box plots: pIC50 value\n",
        "plt.figure(figsize=(5.5, 5.5))\n",
        "\n",
        "sns.boxplot(x = 'bioactivity', y = 'pIC50', data = bioactivity_data_2class)\n",
        "\n",
        "plt.xlabel('Bioactivity class', fontsize=14, fontweight='bold')\n",
        "plt.ylabel('pIC50 value', fontsize=14, fontweight='bold')\n",
        "\n",
        "plt.savefig('plot_ic50.pdf')"
      ],
      "execution_count": null,
      "outputs": [
        {
          "output_type": "display_data",
          "data": {
            "image/png": "[encoded data removed]",
            "text/plain": [
              "<Figure size 396x396 with 1 Axes>"
            ]
          },
          "metadata": {}
        }
      ]
    },
    {
      "cell_type": "code",
      "metadata": {
        "id": "6PKT6BTw6FQu"
      },
      "source": [
        "# Statistical analysis | Mann-Whitney U Test\n",
        "# It is used to test the heterogeneity of two ordinal samples.\n",
        "# Difference between medians\n",
        "def mannwhitney(descriptor, verbose=False):\n",
        "  # https://machinelearningmastery.com/nonparametric-statistical-significance-tests-in-python/\n",
        "  from numpy.random import seed\n",
        "  from numpy.random import randn\n",
        "  from scipy.stats import mannwhitneyu\n",
        "\n",
        "# seed the random number generator\n",
        "  seed(1)\n",
        "\n",
        "# actives and inactives\n",
        "  selection = [descriptor, 'bioactivity']\n",
        "  bioactivity_data_clean_index = bioactivity_data_2class[selection]\n",
        "  active = bioactivity_data_clean_index[bioactivity_data_clean_index['bioactivity'] == 'active']\n",
        "  active = active[descriptor]\n",
        "\n",
        "  selection = [descriptor, 'bioactivity']\n",
        "  bioactivity_data_clean_index = bioactivity_data_2class[selection]\n",
        "  inactive = bioactivity_data_clean_index[bioactivity_data_clean_index['bioactivity'] == 'inactive']\n",
        "  inactive = inactive[descriptor]\n",
        "\n",
        "# compare samples\n",
        "  stat, p = mannwhitneyu(active, inactive)\n",
        "  #print('Statistics=%.3f, p=%.3f' % (stat, p))\n",
        "\n",
        "# interpret\n",
        "  alpha = 0.05\n",
        "  if p > alpha:\n",
        "    interpretation = 'Same distribution (fail to reject H0)'\n",
        "  else:\n",
        "    interpretation = 'Different distribution (reject H0)'\n",
        "  \n",
        "  results = pd.DataFrame({'Descriptor':descriptor,\n",
        "                          'Statistics':stat,\n",
        "                          'p':p,\n",
        "                          'alpha':alpha,\n",
        "                          'Interpretation':interpretation}, index=[0])\n",
        "  filename = 'mannwhitneyu_' + descriptor + '.csv'\n",
        "  results.to_csv(filename)\n",
        "\n",
        "  return results"
      ],
      "execution_count": null,
      "outputs": []
    },
    {
      "cell_type": "code",
      "metadata": {
        "colab": {
          "base_uri": "https://localhost:8080/",
          "height": 80
        },
        "id": "5VprQLDX7nGM",
        "outputId": "d3648493-c42c-4a96-dc13-5fe3b9da7bb2"
      },
      "source": [
        "mannwhitney('pIC50')"
      ],
      "execution_count": null,
      "outputs": [
        {
          "output_type": "execute_result",
          "data": {
            "text/html": [
              "<div>\n",
              "<style scoped>\n",
              "    .dataframe tbody tr th:only-of-type {\n",
              "        vertical-align: middle;\n",
              "    }\n",
              "\n",
              "    .dataframe tbody tr th {\n",
              "        vertical-align: top;\n",
              "    }\n",
              "\n",
              "    .dataframe thead th {\n",
              "        text-align: right;\n",
              "    }\n",
              "</style>\n",
              "<table border=\"1\" class=\"dataframe\">\n",
              "  <thead>\n",
              "    <tr style=\"text-align: right;\">\n",
              "      <th></th>\n",
              "      <th>Descriptor</th>\n",
              "      <th>Statistics</th>\n",
              "      <th>p</th>\n",
              "      <th>alpha</th>\n",
              "      <th>Interpretation</th>\n",
              "    </tr>\n",
              "  </thead>\n",
              "  <tbody>\n",
              "    <tr>\n",
              "      <th>0</th>\n",
              "      <td>pIC50</td>\n",
              "      <td>0.0</td>\n",
              "      <td>8.754059e-32</td>\n",
              "      <td>0.05</td>\n",
              "      <td>Different distribution (reject H0)</td>\n",
              "    </tr>\n",
              "  </tbody>\n",
              "</table>\n",
              "</div>"
            ],
            "text/plain": [
              "  Descriptor  Statistics  ...  alpha                      Interpretation\n",
              "0      pIC50         0.0  ...   0.05  Different distribution (reject H0)\n",
              "\n",
              "[1 rows x 5 columns]"
            ]
          },
          "metadata": {},
          "execution_count": 92
        }
      ]
    },
    {
      "cell_type": "code",
      "metadata": {
        "colab": {
          "base_uri": "https://localhost:8080/",
          "height": 367
        },
        "id": "SyBX4zJf9roq",
        "outputId": "9e28d7b4-e6ae-4b88-9c6a-34871c3d3143"
      },
      "source": [
        "# MW\n",
        "plt.figure(figsize=(5.5, 5.5))\n",
        "\n",
        "sns.boxplot(x = 'bioactivity', y = 'MW', data = bioactivity_data_2class)\n",
        "\n",
        "plt.xlabel('Bioactivity class', fontsize=14, fontweight='bold')\n",
        "plt.ylabel('MW', fontsize=14, fontweight='bold')\n",
        "\n",
        "plt.savefig('plot_MW.pdf')"
      ],
      "execution_count": null,
      "outputs": [
        {
          "output_type": "display_data",
          "data": {
            "image/png": "[encoded data removed]",
            "text/plain": [
              "<Figure size 396x396 with 1 Axes>"
            ]
          },
          "metadata": {}
        }
      ]
    },
    {
      "cell_type": "code",
      "metadata": {
        "colab": {
          "base_uri": "https://localhost:8080/",
          "height": 80
        },
        "id": "WHbEfVz7930M",
        "outputId": "89ad9dfb-2bdd-4212-8d35-ea4211226949"
      },
      "source": [
        "mannwhitney('MW')"
      ],
      "execution_count": null,
      "outputs": [
        {
          "output_type": "execute_result",
          "data": {
            "text/html": [
              "<div>\n",
              "<style scoped>\n",
              "    .dataframe tbody tr th:only-of-type {\n",
              "        vertical-align: middle;\n",
              "    }\n",
              "\n",
              "    .dataframe tbody tr th {\n",
              "        vertical-align: top;\n",
              "    }\n",
              "\n",
              "    .dataframe thead th {\n",
              "        text-align: right;\n",
              "    }\n",
              "</style>\n",
              "<table border=\"1\" class=\"dataframe\">\n",
              "  <thead>\n",
              "    <tr style=\"text-align: right;\">\n",
              "      <th></th>\n",
              "      <th>Descriptor</th>\n",
              "      <th>Statistics</th>\n",
              "      <th>p</th>\n",
              "      <th>alpha</th>\n",
              "      <th>Interpretation</th>\n",
              "    </tr>\n",
              "  </thead>\n",
              "  <tbody>\n",
              "    <tr>\n",
              "      <th>0</th>\n",
              "      <td>MW</td>\n",
              "      <td>1986.0</td>\n",
              "      <td>2.258070e-10</td>\n",
              "      <td>0.05</td>\n",
              "      <td>Different distribution (reject H0)</td>\n",
              "    </tr>\n",
              "  </tbody>\n",
              "</table>\n",
              "</div>"
            ],
            "text/plain": [
              "  Descriptor  Statistics  ...  alpha                      Interpretation\n",
              "0         MW      1986.0  ...   0.05  Different distribution (reject H0)\n",
              "\n",
              "[1 rows x 5 columns]"
            ]
          },
          "metadata": {},
          "execution_count": 94
        }
      ]
    },
    {
      "cell_type": "code",
      "metadata": {
        "colab": {
          "base_uri": "https://localhost:8080/",
          "height": 367
        },
        "id": "ZB90Q9OB96Mr",
        "outputId": "83e9deff-0beb-463e-a16c-4c1420d83c47"
      },
      "source": [
        "# LogP\n",
        "plt.figure(figsize=(5.5, 5.5))\n",
        "\n",
        "sns.boxplot(x = 'bioactivity', y = 'LogP', data = bioactivity_data_2class)\n",
        "\n",
        "plt.xlabel('Bioactivity class', fontsize=14, fontweight='bold')\n",
        "plt.ylabel('LogP', fontsize=14, fontweight='bold')\n",
        "\n",
        "plt.savefig('plot_LogP.pdf')"
      ],
      "execution_count": null,
      "outputs": [
        {
          "output_type": "display_data",
          "data": {
            "image/png": "[encoded data removed]",
            "text/plain": [
              "<Figure size 396x396 with 1 Axes>"
            ]
          },
          "metadata": {}
        }
      ]
    },
    {
      "cell_type": "code",
      "metadata": {
        "colab": {
          "base_uri": "https://localhost:8080/",
          "height": 80
        },
        "id": "qvGcmAOS-Fsk",
        "outputId": "ddab2315-14fb-43bf-c960-4bc504dfcc6c"
      },
      "source": [
        "mannwhitney('LogP')"
      ],
      "execution_count": null,
      "outputs": [
        {
          "output_type": "execute_result",
          "data": {
            "text/html": [
              "<div>\n",
              "<style scoped>\n",
              "    .dataframe tbody tr th:only-of-type {\n",
              "        vertical-align: middle;\n",
              "    }\n",
              "\n",
              "    .dataframe tbody tr th {\n",
              "        vertical-align: top;\n",
              "    }\n",
              "\n",
              "    .dataframe thead th {\n",
              "        text-align: right;\n",
              "    }\n",
              "</style>\n",
              "<table border=\"1\" class=\"dataframe\">\n",
              "  <thead>\n",
              "    <tr style=\"text-align: right;\">\n",
              "      <th></th>\n",
              "      <th>Descriptor</th>\n",
              "      <th>Statistics</th>\n",
              "      <th>p</th>\n",
              "      <th>alpha</th>\n",
              "      <th>Interpretation</th>\n",
              "    </tr>\n",
              "  </thead>\n",
              "  <tbody>\n",
              "    <tr>\n",
              "      <th>0</th>\n",
              "      <td>LogP</td>\n",
              "      <td>1415.5</td>\n",
              "      <td>3.209282e-15</td>\n",
              "      <td>0.05</td>\n",
              "      <td>Different distribution (reject H0)</td>\n",
              "    </tr>\n",
              "  </tbody>\n",
              "</table>\n",
              "</div>"
            ],
            "text/plain": [
              "  Descriptor  Statistics  ...  alpha                      Interpretation\n",
              "0       LogP      1415.5  ...   0.05  Different distribution (reject H0)\n",
              "\n",
              "[1 rows x 5 columns]"
            ]
          },
          "metadata": {},
          "execution_count": 96
        }
      ]
    },
    {
      "cell_type": "code",
      "metadata": {
        "colab": {
          "base_uri": "https://localhost:8080/",
          "height": 367
        },
        "id": "Rfq-JPe7-O4r",
        "outputId": "016eb3f5-3956-4b75-88a9-b75b89fb4931"
      },
      "source": [
        "# NumHDonors\n",
        "\n",
        "plt.figure(figsize=(5.5, 5.5))\n",
        "\n",
        "sns.boxplot(x = 'bioactivity', y = 'NumHDonors', data = bioactivity_data_2class)\n",
        "\n",
        "plt.xlabel('Bioactivity class', fontsize=14, fontweight='bold')\n",
        "plt.ylabel('NumHDonors', fontsize=14, fontweight='bold')\n",
        "\n",
        "plt.savefig('plot_NumHDonors.pdf')"
      ],
      "execution_count": null,
      "outputs": [
        {
          "output_type": "display_data",
          "data": {
            "image/png": "[encoded data removed]",
            "text/plain": [
              "<Figure size 396x396 with 1 Axes>"
            ]
          },
          "metadata": {}
        }
      ]
    },
    {
      "cell_type": "code",
      "metadata": {
        "colab": {
          "base_uri": "https://localhost:8080/",
          "height": 80
        },
        "id": "mGztBzQJ-gCE",
        "outputId": "2cda2aa5-0f71-426b-8000-7cf223040277"
      },
      "source": [
        "mannwhitney('NumHDonors')"
      ],
      "execution_count": null,
      "outputs": [
        {
          "output_type": "execute_result",
          "data": {
            "text/html": [
              "<div>\n",
              "<style scoped>\n",
              "    .dataframe tbody tr th:only-of-type {\n",
              "        vertical-align: middle;\n",
              "    }\n",
              "\n",
              "    .dataframe tbody tr th {\n",
              "        vertical-align: top;\n",
              "    }\n",
              "\n",
              "    .dataframe thead th {\n",
              "        text-align: right;\n",
              "    }\n",
              "</style>\n",
              "<table border=\"1\" class=\"dataframe\">\n",
              "  <thead>\n",
              "    <tr style=\"text-align: right;\">\n",
              "      <th></th>\n",
              "      <th>Descriptor</th>\n",
              "      <th>Statistics</th>\n",
              "      <th>p</th>\n",
              "      <th>alpha</th>\n",
              "      <th>Interpretation</th>\n",
              "    </tr>\n",
              "  </thead>\n",
              "  <tbody>\n",
              "    <tr>\n",
              "      <th>0</th>\n",
              "      <td>NumHDonors</td>\n",
              "      <td>2924.0</td>\n",
              "      <td>0.000038</td>\n",
              "      <td>0.05</td>\n",
              "      <td>Different distribution (reject H0)</td>\n",
              "    </tr>\n",
              "  </tbody>\n",
              "</table>\n",
              "</div>"
            ],
            "text/plain": [
              "   Descriptor  Statistics         p  alpha                      Interpretation\n",
              "0  NumHDonors      2924.0  0.000038   0.05  Different distribution (reject H0)"
            ]
          },
          "metadata": {},
          "execution_count": 98
        }
      ]
    },
    {
      "cell_type": "code",
      "metadata": {
        "colab": {
          "base_uri": "https://localhost:8080/",
          "height": 367
        },
        "id": "lNcNSeii-iQ5",
        "outputId": "93cc38e4-252f-49ec-8548-3c20f4d6d66d"
      },
      "source": [
        "# NumHAcceptors\n",
        "plt.figure(figsize=(5.5, 5.5))\n",
        "\n",
        "sns.boxplot(x = 'bioactivity', y = 'NumHAcceptors', data = bioactivity_data_2class)\n",
        "\n",
        "plt.xlabel('Bioactivity class', fontsize=14, fontweight='bold')\n",
        "plt.ylabel('NumHAcceptors', fontsize=14, fontweight='bold')\n",
        "\n",
        "plt.savefig('plot_NumHAcceptors.pdf')"
      ],
      "execution_count": null,
      "outputs": [
        {
          "output_type": "display_data",
          "data": {
            "image/png": "[encoded data removed]",
            "text/plain": [
              "<Figure size 396x396 with 1 Axes>"
            ]
          },
          "metadata": {}
        }
      ]
    },
    {
      "cell_type": "code",
      "metadata": {
        "colab": {
          "base_uri": "https://localhost:8080/",
          "height": 80
        },
        "id": "horiG_UJ-7ea",
        "outputId": "2bc6cfda-fd6d-47c2-b849-62d19f4a7918"
      },
      "source": [
        "mannwhitney('NumHAcceptors')"
      ],
      "execution_count": null,
      "outputs": [
        {
          "output_type": "execute_result",
          "data": {
            "text/html": [
              "<div>\n",
              "<style scoped>\n",
              "    .dataframe tbody tr th:only-of-type {\n",
              "        vertical-align: middle;\n",
              "    }\n",
              "\n",
              "    .dataframe tbody tr th {\n",
              "        vertical-align: top;\n",
              "    }\n",
              "\n",
              "    .dataframe thead th {\n",
              "        text-align: right;\n",
              "    }\n",
              "</style>\n",
              "<table border=\"1\" class=\"dataframe\">\n",
              "  <thead>\n",
              "    <tr style=\"text-align: right;\">\n",
              "      <th></th>\n",
              "      <th>Descriptor</th>\n",
              "      <th>Statistics</th>\n",
              "      <th>p</th>\n",
              "      <th>alpha</th>\n",
              "      <th>Interpretation</th>\n",
              "    </tr>\n",
              "  </thead>\n",
              "  <tbody>\n",
              "    <tr>\n",
              "      <th>0</th>\n",
              "      <td>NumHAcceptors</td>\n",
              "      <td>4262.5</td>\n",
              "      <td>0.49662</td>\n",
              "      <td>0.05</td>\n",
              "      <td>Same distribution (fail to reject H0)</td>\n",
              "    </tr>\n",
              "  </tbody>\n",
              "</table>\n",
              "</div>"
            ],
            "text/plain": [
              "      Descriptor  Statistics  ...  alpha                         Interpretation\n",
              "0  NumHAcceptors      4262.5  ...   0.05  Same distribution (fail to reject H0)\n",
              "\n",
              "[1 rows x 5 columns]"
            ]
          },
          "metadata": {},
          "execution_count": 100
        }
      ]
    },
    {
      "cell_type": "markdown",
      "metadata": {
        "id": "yfMPbObQ_ERQ"
      },
      "source": [
        "##Interpretation of Statistical Results\n",
        "\n",
        "#Box Plots\n",
        "\n",
        "#pIC50 values\n",
        "\n",
        "Taking a look at pIC50 values, the actives and inactives displayed statistically significant difference, which is to be expected since threshold values (IC50 < 1,000 nM = Actives while IC50 > 10,000 nM = Inactives, corresponding to pIC50 > 6 = Actives and pIC50 < 5 = Inactives) were used to define actives and inactives.\n",
        "\n",
        "# Lipinski's descriptors\n",
        "3 of the 4 Lipinski's descriptors exhibited statistically significant difference between the actives and inactives."
      ]
    },
    {
      "cell_type": "code",
      "metadata": {
        "id": "3xHI7hA5UhDD",
        "colab": {
          "base_uri": "https://localhost:8080/"
        },
        "outputId": "2147dbcb-9749-468f-b0c5-6cb96c9818c9"
      },
      "source": [
        "# Save all\n",
        "! zip -r results.zip . -i *.csv *.pdf"
      ],
      "execution_count": null,
      "outputs": [
        {
          "output_type": "stream",
          "name": "stdout",
          "text": [
            "  adding: mannwhitneyu_pIC50.csv (deflated 11%)\n",
            "  adding: plot_MW.pdf (deflated 38%)\n",
            "  adding: plot_MW_vs_LogP.pdf (deflated 11%)\n",
            "  adding: genital_herpes_03_bioactivity_data_curated.csv (deflated 83%)\n",
            "  adding: plot_NumHDonors.pdf (deflated 38%)\n",
            "  adding: plot_NumHAcceptors.pdf (deflated 37%)\n",
            "  adding: genital_herpes_05__bioactivity_data_2class_pIC50.csv (deflated 78%)\n",
            "  adding: genital_herpes_04_bioactivity_data_3class_pIC50.csv (deflated 78%)\n",
            "  adding: plot_LogP.pdf (deflated 37%)\n",
            "  adding: mannwhitneyu_MW.csv (deflated 7%)\n",
            "  adding: mannwhitneyu_NumHDonors.csv (deflated 9%)\n",
            "  adding: plot_bioactivity_class.pdf (deflated 38%)\n",
            "  adding: mannwhitneyu_LogP.csv (deflated 9%)\n",
            "  adding: mannwhitneyu_NumHAcceptors.csv (deflated 11%)\n",
            "  adding: plot_ic50.pdf (deflated 37%)\n"
          ]
        }
      ]
    }
  ]
}